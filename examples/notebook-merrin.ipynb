{
 "cells": [
  {
   "cell_type": "markdown",
   "metadata": {},
   "source": [
    "# Jupyter Notebook example for MERRIN"
   ]
  },
  {
   "cell_type": "code",
   "execution_count": null,
   "metadata": {},
   "outputs": [],
   "source": [
    "# ==============================================================================\n",
    "# Imports\n",
    "# ==============================================================================\n",
    "from typing import Literal\n",
    "from pandas import DataFrame\n",
    "\n",
    "from merrin import MerrinLearner, Observation"
   ]
  },
  {
   "cell_type": "markdown",
   "metadata": {},
   "source": [
    "## Inputs"
   ]
  },
  {
   "cell_type": "markdown",
   "metadata": {},
   "source": [
    "### Mandatory"
   ]
  },
  {
   "cell_type": "code",
   "execution_count": null,
   "metadata": {},
   "outputs": [],
   "source": [
    "sbml: str = 'ecoli-small/metabolic_network.sbml'\n",
    "objective: str = 'Growth'\n",
    "pkn: str = 'ecoli-small/pkn.txt'\n",
    "observations_json: str = 'ecoli-small/timeseries_kft.json'"
   ]
  },
  {
   "cell_type": "markdown",
   "metadata": {},
   "source": [
    "### Optional"
   ]
  },
  {
   "cell_type": "code",
   "execution_count": null,
   "metadata": {},
   "outputs": [],
   "source": [
    "# ~ Solving modes\n",
    "optimisation_mode: Literal['all', 'subsetmin'] = 'subsetmin'\n",
    "projection_mode: Literal['network', 'node'] = 'network'\n",
    "\n",
    "# ~ Solving parameters\n",
    "lpsolver: Literal['glpk', 'gurobi'] = 'glpk'\n",
    "nbsol: int = 0 # 0 to enumerate all solution, else the nb of solution to enum\n",
    "timelimit: float = -1 # -1 if not timelimit, else the timelimit value in second\n",
    "max_gap: int = 10 # maximum number of timestep than can be added\n",
    "max_error: float = 0.1 # maximum error rate between observations and predictions\n",
    "max_clause: int = 20 # maximum number of clauses per rules in DNF"
   ]
  },
  {
   "cell_type": "markdown",
   "metadata": {},
   "source": [
    "## Preprocessing"
   ]
  },
  {
   "cell_type": "markdown",
   "metadata": {},
   "source": [
    "### Parse the Prior Knowlege Network file"
   ]
  },
  {
   "cell_type": "code",
   "execution_count": null,
   "metadata": {},
   "outputs": [],
   "source": [
    "parsed_pkn: list[tuple[str, int, str]] = []\n",
    "with open(pkn, 'r', encoding='utf-8') as file:\n",
    "    for line in file.readlines():\n",
    "        # Line format: <Node>\\t<Sign>\\t<Node>\n",
    "        split_line: list[str] = line.strip().split()\n",
    "        node_u: str = split_line[0]\n",
    "        sign: int = int(split_line[1])\n",
    "        node_v: str = split_line[2]\n",
    "        parsed_pkn.append((node_u, sign, node_v))"
   ]
  },
  {
   "cell_type": "markdown",
   "metadata": {},
   "source": [
    "### Parse Observation json "
   ]
  },
  {
   "cell_type": "code",
   "execution_count": null,
   "metadata": {},
   "outputs": [],
   "source": [
    "observations: list[Observation] = Observation.load_json(observations_json)"
   ]
  },
  {
   "cell_type": "markdown",
   "metadata": {},
   "source": [
    "### Select the solving modes"
   ]
  },
  {
   "cell_type": "code",
   "execution_count": null,
   "metadata": {},
   "outputs": [],
   "source": [
    "optimisation: MerrinLearner.Optimisation = MerrinLearner.Optimisation.SUBSETMIN\n",
    "if optimisation_mode == 'all':\n",
    "    optimisation = MerrinLearner.Optimisation.ALL\n",
    "\n",
    "projection: MerrinLearner.Projection = MerrinLearner.Projection.NETWORK\n",
    "if projection_mode == 'node':\n",
    "    projection = MerrinLearner.Projection.NODE"
   ]
  },
  {
   "cell_type": "markdown",
   "metadata": {},
   "source": [
    "## MERRIN"
   ]
  },
  {
   "cell_type": "code",
   "execution_count": null,
   "metadata": {},
   "outputs": [],
   "source": [
    "merrin: MerrinLearner = MerrinLearner(\n",
    "    sbml, objective, parsed_pkn,   # Mandatory\n",
    "    max_clause=max_clause          # Optional\n",
    ")\n",
    "merrin.set_optimisation(optimisation)\n",
    "merrin.set_projection(projection)"
   ]
  },
  {
   "cell_type": "code",
   "execution_count": null,
   "metadata": {},
   "outputs": [],
   "source": [
    "rules: DataFrame = merrin.learn(\n",
    "    observations,                               # Mandatory\n",
    "    max_gap=max_gap, max_error=max_error,       # Optional\n",
    "    timelimit=timelimit, lpsolver=lpsolver,     # Optional\n",
    "    nbsol=nbsol                                 # Optional\n",
    ")"
   ]
  },
  {
   "cell_type": "markdown",
   "metadata": {},
   "source": [
    "## Results"
   ]
  },
  {
   "cell_type": "code",
   "execution_count": null,
   "metadata": {},
   "outputs": [],
   "source": [
    "rules"
   ]
  }
 ],
 "metadata": {
  "kernelspec": {
   "display_name": ".venv",
   "language": "python",
   "name": "python3"
  },
  "language_info": {
   "codemirror_mode": {
    "name": "ipython",
    "version": 3
   },
   "file_extension": ".py",
   "mimetype": "text/x-python",
   "name": "python",
   "nbconvert_exporter": "python",
   "pygments_lexer": "ipython3",
   "version": "3.10.8"
  }
 },
 "nbformat": 4,
 "nbformat_minor": 2
}
